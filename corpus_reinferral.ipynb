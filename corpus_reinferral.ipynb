{
 "cells": [
  {
   "cell_type": "markdown",
   "metadata": {},
   "source": [
    "# Corpus reinferral "
   ]
  },
  {
   "cell_type": "markdown",
   "metadata": {},
   "source": [
    "As a result of small corpus sizes and the stochastic nature of vector inference for an individual fragment, the numerical values for each hyperdimension\n",
    "may very significantly. We address this by reinferring a vector multiple times, and using its component-wise median."
   ]
  },
  {
   "cell_type": "code",
   "execution_count": null,
   "metadata": {},
   "outputs": [],
   "source": [
    "import gensim\n",
    "import numpy as np\n"
   ]
  },
  {
   "cell_type": "code",
   "execution_count": null,
   "metadata": {},
   "outputs": [],
   "source": [
    "def reinfer_corpus_single(corpus,model,reinferral_instances=100):\n",
    "    vector_dimension = model.vector_size\n",
    "    reinf_corp_vec_med = np.ndarray((reinferral_instances,len(corpus),vector_dimension))\n",
    "    for j in range(reinferral_instances):\n",
    "        for i in range(len(corpus)):\n",
    "            c = corpus[i]\n",
    "            reinf_corp_vec_med[j][i][:] = model.infer_vector(c.words)\n",
    "        \n",
    "    return np.median(reinf_corp_vec_med,axis=0)"
   ]
  },
  {
   "cell_type": "code",
   "execution_count": null,
   "metadata": {},
   "outputs": [],
   "source": [
    "def reinfer_fragment_vector(fragment,model,reinferral_instances=100):\n",
    "    vector_dimension = model.vector_size\n",
    "    reinf_vec_med = np.ndarray((reinferral_instances,vector_dimension))\n",
    "    for j in range(reinferral_instances):\n",
    "        reinf_vec_med[j][:] = model.infer_vector(fragment)\n",
    "        \n",
    "    return np.median(reinf_vec_med,axis=0)\n",
    "\n",
    "\n",
    "    "
   ]
  }
 ],
 "metadata": {
  "kernelspec": {
   "display_name": "Python [conda env:EviDENce]",
   "language": "python",
   "name": "conda-env-EviDENce-py"
  },
  "language_info": {
   "codemirror_mode": {
    "name": "ipython",
    "version": 3
   },
   "file_extension": ".py",
   "mimetype": "text/x-python",
   "name": "python",
   "nbconvert_exporter": "python",
   "pygments_lexer": "ipython3",
   "version": "3.6.7"
  }
 },
 "nbformat": 4,
 "nbformat_minor": 2
}
