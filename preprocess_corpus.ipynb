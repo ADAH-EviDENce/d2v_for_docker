{
 "cells": [
  {
   "cell_type": "markdown",
   "metadata": {},
   "source": [
    "# Create Corpus File"
   ]
  },
  {
   "cell_type": "code",
   "execution_count": 1,
   "metadata": {},
   "outputs": [
    {
     "name": "stdout",
     "output_type": "stream",
     "text": [
      "importing Jupyter notebook from tokenizer.ipynb\n",
      "importing Jupyter notebook from filepaths.ipynb\n"
     ]
    }
   ],
   "source": [
    "import os\n",
    "import import_ipynb\n",
    "import tokenizer\n",
    "import filepaths as fp"
   ]
  },
  {
   "cell_type": "markdown",
   "metadata": {},
   "source": [
    "### get full paths to files"
   ]
  },
  {
   "cell_type": "code",
   "execution_count": 5,
   "metadata": {},
   "outputs": [],
   "source": [
    "corpus_input_path = fp.corpus_input_path\n",
    "corpus_file_path = fp.corpus_file_path\n",
    "corpus_ids_file_path = fp.corpus_ids_file_path"
   ]
  },
  {
   "cell_type": "markdown",
   "metadata": {},
   "source": [
    "## Read in corpus"
   ]
  },
  {
   "cell_type": "code",
   "execution_count": 6,
   "metadata": {},
   "outputs": [],
   "source": [
    "with open(corpus_file_path,'w') as tf ,  open(corpus_ids_file_path,'w') as nf :\n",
    "    for dirName, subdirList, filelist in os.walk(corpus_input_path,topdown=False):\n",
    "        for fname in filelist:\n",
    "            if fname.endswith('.txt'):\n",
    "                rel_dir = os.path.relpath(dirName,corpus_input_path)\n",
    "                rel_file = os.path.join(rel_dir,fname)\n",
    "                nf.write(rel_file+'\\n')\n",
    "                with open(os.path.join(dirName,fname),'r') as inf:\n",
    "                    lines = inf.readlines()\n",
    "                    for line in lines:\n",
    "                        line_processed = tokenizer.preprocess_fragment(line)\n",
    "                        tf.write(line_processed+'\\n')"
   ]
  },
  {
   "cell_type": "code",
   "execution_count": null,
   "metadata": {},
   "outputs": [],
   "source": []
  }
 ],
 "metadata": {
  "kernelspec": {
   "display_name": "Python [conda env:EviDENce]",
   "language": "python",
   "name": "conda-env-EviDENce-py"
  },
  "language_info": {
   "codemirror_mode": {
    "name": "ipython",
    "version": 3
   },
   "file_extension": ".py",
   "mimetype": "text/x-python",
   "name": "python",
   "nbconvert_exporter": "python",
   "pygments_lexer": "ipython3",
   "version": "3.6.7"
  }
 },
 "nbformat": 4,
 "nbformat_minor": 2
}
