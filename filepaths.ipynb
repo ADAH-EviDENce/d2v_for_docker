{
 "cells": [
  {
   "cell_type": "markdown",
   "metadata": {},
   "source": [
    "# Directory structure, paths, and file names"
   ]
  },
  {
   "cell_type": "markdown",
   "metadata": {},
   "source": [
    "Below we declare the required paths and file names for the doc2vec model framework."
   ]
  },
  {
   "cell_type": "code",
   "execution_count": 1,
   "metadata": {},
   "outputs": [],
   "source": [
    "import os"
   ]
  },
  {
   "cell_type": "markdown",
   "metadata": {},
   "source": [
    "## Define paths "
   ]
  },
  {
   "cell_type": "markdown",
   "metadata": {},
   "source": [
    "### define filenames"
   ]
  },
  {
   "cell_type": "code",
   "execution_count": 2,
   "metadata": {},
   "outputs": [],
   "source": [
    "corpus_file_name ='Getuigen_Verhalen_corpus'\n",
    "corpus_ids_file_name ='Getuigen_Verhalen_ids'\n",
    "model_output_file_name ='Getuigen_Verhalen_model.d2v'\n",
    "model_output_corpus_vectors ='Getuigen_Verhalen_corpus_vectors.pkl'"
   ]
  },
  {
   "cell_type": "markdown",
   "metadata": {},
   "source": [
    "#### define paths relative to current working directory (cwd)"
   ]
  },
  {
   "cell_type": "code",
   "execution_count": 3,
   "metadata": {},
   "outputs": [],
   "source": [
    "corpus_input_path_rel = '/test/corpus_input'\n",
    "corpus_path_rel = '/test/preprocessed_corpus'\n",
    "model_output_path_rel = '/test/model'\n"
   ]
  },
  {
   "cell_type": "markdown",
   "metadata": {},
   "source": [
    "### create full file paths"
   ]
  },
  {
   "cell_type": "code",
   "execution_count": 4,
   "metadata": {},
   "outputs": [],
   "source": [
    "corpus_input_path = os.getcwd()+corpus_input_path_rel\n",
    "corpus_file_path = os.getcwd()+os.path.join(corpus_path_rel,corpus_file_name)\n",
    "corpus_ids_file_path = os.getcwd()+os.path.join(corpus_path_rel,corpus_ids_file_name)\n",
    "model_output_file_path = os.getcwd()+os.path.join(model_output_path_rel,model_output_file_name)\n",
    "model_output_corpus_vectors_path = os.getcwd()+os.path.join(model_output_path_rel,model_output_corpus_vectors)"
   ]
  }
 ],
 "metadata": {
  "kernelspec": {
   "display_name": "Python [conda env:EviDENce]",
   "language": "python",
   "name": "conda-env-EviDENce-py"
  },
  "language_info": {
   "codemirror_mode": {
    "name": "ipython",
    "version": 3
   },
   "file_extension": ".py",
   "mimetype": "text/x-python",
   "name": "python",
   "nbconvert_exporter": "python",
   "pygments_lexer": "ipython3",
   "version": "3.6.7"
  }
 },
 "nbformat": 4,
 "nbformat_minor": 2
}
